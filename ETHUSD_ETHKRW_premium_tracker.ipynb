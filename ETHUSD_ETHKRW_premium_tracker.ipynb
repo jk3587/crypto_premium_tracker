{
 "cells": [
  {
   "cell_type": "code",
   "execution_count": 1,
   "metadata": {
    "collapsed": true
   },
   "outputs": [],
   "source": [
    "import ccxt\n",
    "from forex_python.converter import CurrencyRates"
   ]
  },
  {
   "cell_type": "code",
   "execution_count": 2,
   "metadata": {
    "collapsed": true
   },
   "outputs": [],
   "source": [
    "c = CurrencyRates()\n",
    "usd_krw_fx_rate = c.get_rate('USD', 'KRW')"
   ]
  },
  {
   "cell_type": "code",
   "execution_count": 3,
   "metadata": {
    "collapsed": true
   },
   "outputs": [],
   "source": [
    "#gdax = getattr (ccxt, 'gdax') ()\n",
    "gdax = ccxt.gdax ()\n",
    "bithumb = ccxt.bithumb ()"
   ]
  },
  {
   "cell_type": "code",
   "execution_count": 4,
   "metadata": {
    "collapsed": true
   },
   "outputs": [],
   "source": [
    "us_markets = gdax.load_markets ()\n",
    "kr_markets = bithumb.load_markets()\n",
    "#print(gdax.id, markets)\n",
    "#print(bithumb.id, kr_markets)"
   ]
  },
  {
   "cell_type": "code",
   "execution_count": 5,
   "metadata": {
    "collapsed": true
   },
   "outputs": [],
   "source": [
    "ethusd = gdax.market ('ETH/USD')\n",
    "ethkrw = bithumb.market ('ETH/KRW')\n",
    "ltdusd = gdax.market ('LTC/USD')\n",
    "ltckrw = bithumb.market ('LTC/KRW')"
   ]
  },
  {
   "cell_type": "code",
   "execution_count": 6,
   "metadata": {
    "collapsed": true
   },
   "outputs": [],
   "source": [
    "gdax_symbols = gdax.symbols\n",
    "bithumb_symbols = bithumb.symbols"
   ]
  },
  {
   "cell_type": "code",
   "execution_count": 7,
   "metadata": {},
   "outputs": [
    {
     "data": {
      "text/plain": [
       "1083.2"
      ]
     },
     "execution_count": 7,
     "metadata": {},
     "output_type": "execute_result"
    }
   ],
   "source": [
    "usd_krw_fx_rate * (1.00675)\n",
    "usd_krw_fx_rate"
   ]
  },
  {
   "cell_type": "code",
   "execution_count": null,
   "metadata": {},
   "outputs": [],
   "source": [
    "import time\n",
    "fx_rate = 1086 # c.get_rate('USD', 'KRW')*(1.00875)\n",
    "delay = 3 # seconds\n",
    "exchange = 'ETH'\n",
    "while True:\n",
    "    try:\n",
    "        if exchange == 'ETH':\n",
    "            gdax_ethusd_bid = gdax.fetchTicker('ETH/USD')['bid'] #ETH\n",
    "            bithumb_ethkrw_ask = bithumb.fetchTicker('ETH/KRW')['bid'] #ETH\n",
    "        else:\n",
    "            gdax_ethusd_bid = gdax.fetchTicker('LTC/USD')['bid']\n",
    "            bithumb_ethkrw_ask = bithumb.fetchTicker('LTC/KRW')['ask']\n",
    "        delta = (bithumb_ethkrw_ask / fx_rate) - gdax_ethusd_bid\n",
    "        premium = delta / gdax_ethusd_bid\n",
    "        pct_premium = premium * 100\n",
    "        localtime = time.asctime(time.localtime((time.time())))\n",
    "        status = ['pct_premium:',\n",
    "                  '{0:.3f}'.format(pct_premium),\n",
    "                  str(time.time()),\n",
    "                  localtime,\n",
    "                  'premium:',\n",
    "                  '{0:.2f}'.format(delta),\n",
    "                  'bid:',\n",
    "                  '{0:.2f}'.format(gdax_ethusd_bid),\n",
    "                  'bid KRW',\n",
    "                  '{0:.2f}'.format(bithumb_ethkrw_ask),\n",
    "                  'ask USD',\n",
    "                  '{0:.2f}'.format(bithumb_ethkrw_ask / fx_rate),\n",
    "                  'FX Rate',\n",
    "                  '{}'.format(fx_rate),\n",
    "                  exchange]\n",
    "        #print(' '.join(status))\n",
    "        with open('crypto_log_eth.txt', 'a') as f:\n",
    "            f.write('\\n')\n",
    "            f.write(','.join(status))\n",
    "            f.close()\n",
    "        if pct_premium >= 20.0:\n",
    "            print('\\n','*** PREMIUM 20%+ ***','\\n')\n",
    "        time.sleep (delay) # rate limit\n",
    "    except KeyboardInterrupt():\n",
    "        break\n",
    "    except:\n",
    "        continue"
   ]
  },
  {
   "cell_type": "code",
   "execution_count": null,
   "metadata": {
    "collapsed": true
   },
   "outputs": [],
   "source": []
  },
  {
   "cell_type": "code",
   "execution_count": null,
   "metadata": {
    "collapsed": true
   },
   "outputs": [],
   "source": []
  }
 ],
 "metadata": {
  "kernelspec": {
   "display_name": "Python 3",
   "language": "python",
   "name": "python3"
  },
  "language_info": {
   "codemirror_mode": {
    "name": "ipython",
    "version": 3
   },
   "file_extension": ".py",
   "mimetype": "text/x-python",
   "name": "python",
   "nbconvert_exporter": "python",
   "pygments_lexer": "ipython3",
   "version": "3.6.1"
  }
 },
 "nbformat": 4,
 "nbformat_minor": 2
}
